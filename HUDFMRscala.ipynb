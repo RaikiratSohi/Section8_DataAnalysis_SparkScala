{
 "cells": [
  {
   "cell_type": "markdown",
   "metadata": {
    "collapsed": true
   },
   "source": [
    "# DATA ANALYSIS OF SECTION 8 HUD FMR DATA\n",
    "\n",
    "In this notebook, we show how to analyze Section 8 housing fmr dataset stored in IBM dashDB using Apache Spark with Scala .code can be found here https://github.com/RaikiratSohi/Section8_DataAnalysis_SparkScala.git . The FMR dataset contains the rental value that is reimbursed by govt. in different county's around United States.\n"
   ]
  },
  {
   "cell_type": "code",
   "execution_count": 2,
   "metadata": {
    "collapsed": true
   },
   "outputs": [],
   "source": [
    "// Import SQLContext and data types\n",
    "// sc is an existing SparkContext.\n",
    "\n",
    "val sqlContext =  new org.apache.spark.sql.SQLContext(sc)"
   ]
  },
  {
   "cell_type": "markdown",
   "metadata": {},
   "source": [
    "# Data Loading\n",
    "In this section, we load the data from a .csv file that has been saved in dashDB and automatically create a SparkSQL DataFrame that contains all the data. "
   ]
  },
  {
   "cell_type": "code",
   "execution_count": 3,
   "metadata": {
    "collapsed": true
   },
   "outputs": [],
   "source": [
    "val dashdata = sqlContext.load(\"jdbc\", Map( \"url\" -> \"jdbc:db2://bluemix05.bluforcloud.com:50000/BLUDB:user=dash017994;password=NxNXtoh29gvw;\",  \"dbtable\" -> \"dash017994.FMR2015\"))\n",
    "val dashdata2 = sqlContext.load(\"jdbc\", Map( \"url\" -> \"jdbc:db2://bluemix05.bluforcloud.com:50000/BLUDB:user=dash017994;password=NxNXtoh29gvw;\",  \"dbtable\" -> \"dash017994.ACTUALHUD\"))"
   ]
  },
  {
   "cell_type": "markdown",
   "metadata": {},
   "source": [
    "# Sending Data to Temp Tables\n",
    "The fmr tabel data(\"fmrdata\") contains the Fair Market Rents For The Section 8 Housing Assistance Payments Program Data provide by US Department of Housing and Urban Development at http://catalog.data.gov/dataset/fair-market-rents-for-the-section-8-housing-assistance-payments-program . The other database table (\"actualdata\") is the dummy database that enlists the prevailing rates in different counties at which the Section 8 housing is offered. "
   ]
  },
  {
   "cell_type": "code",
   "execution_count": 4,
   "metadata": {
    "collapsed": false
   },
   "outputs": [],
   "source": [
    "dashdata.registerTempTable(\"fmrdata\")\n",
    "dashdata2.registerTempTable(\"actualdata\") "
   ]
  },
  {
   "cell_type": "markdown",
   "metadata": {},
   "source": [
    "#Print Schema/Layout and Contents of both Dataset tables\n",
    "dashdata and dashdata2 are tables where data is stored for analysis"
   ]
  },
  {
   "cell_type": "code",
   "execution_count": 5,
   "metadata": {
    "collapsed": false
   },
   "outputs": [
    {
     "name": "stdout",
     "output_type": "stream",
     "text": [
      "root\n",
      " |-- FIPS2000: string (nullable = true)\n",
      " |-- FIPS2010: string (nullable = true)\n",
      " |-- FMR2: integer (nullable = true)\n",
      " |-- FMR0: integer (nullable = true)\n",
      " |-- FMR1: integer (nullable = true)\n",
      " |-- FMR3: integer (nullable = true)\n",
      " |-- FMR4: integer (nullable = true)\n",
      " |-- COUNTY: integer (nullable = true)\n",
      " |-- STATE: integer (nullable = true)\n",
      " |-- COUSUB: string (nullable = true)\n",
      " |-- COUNTYNAME: string (nullable = true)\n",
      " |-- METRO_CODE: string (nullable = true)\n",
      " |-- AREANAME: string (nullable = true)\n",
      " |-- COUNTY_TOWN_NAME: string (nullable = true)\n",
      " |-- POP2010: integer (nullable = true)\n",
      " |-- STATE_ALPHA: string (nullable = true)\n",
      " |-- FMR_TYPE: integer (nullable = true)\n",
      " |-- METRO: integer (nullable = true)\n",
      "\n"
     ]
    }
   ],
   "source": [
    "dashdata.printSchema\n",
    "dashdata2.printSchema"
   ]
  },
  {
   "cell_type": "code",
   "execution_count": 6,
   "metadata": {
    "collapsed": false
   },
   "outputs": [
    {
     "name": "stdout",
     "output_type": "stream",
     "text": [
      "+----------+----------+----+----+----+----+----+------+-----+------+-----------------+----------------+--------------------+--------------------+-------+-----------+--------+-----+\n",
      "|  FIPS2000|  FIPS2010|FMR2|FMR0|FMR1|FMR3|FMR4|COUNTY|STATE|COUSUB|       COUNTYNAME|      METRO_CODE|            AREANAME|    COUNTY_TOWN_NAME|POP2010|STATE_ALPHA|FMR_TYPE|METRO|\n",
      "+----------+----------+----+----+----+----+----+------+-----+------+-----------------+----------------+--------------------+--------------------+-------+-----------+--------+-----+\n",
      "|0901155500|0901155500|1057| 716| 805|1353|1560|    11|    9| 55500|New London County|METRO35980M35980|Norwich-New Londo...|North Stonington ...|   5297|         CT|      40|    1|\n",
      "|0901156270|0901156270|1057| 716| 805|1353|1560|    11|    9| 56270|New London County|METRO35980M35980|Norwich-New Londo...|        Norwich town|  40493|         CT|      40|    1|\n",
      "|0901157040|0901157040|1057| 716| 805|1353|1560|    11|    9| 57040|New London County|METRO35980M35980|Norwich-New Londo...|       Old Lyme town|   7603|         CT|      40|    1|\n",
      "|0901162150|0901162150|1057| 716| 805|1353|1560|    11|    9| 62150|New London County|METRO35980M35980|Norwich-New Londo...|        Preston town|   4726|         CT|      40|    1|\n",
      "|0901166210|0901166210|1057| 716| 805|1353|1560|    11|    9| 66210|New London County|METRO35980M35980|Norwich-New Londo...|          Salem town|   4151|         CT|      40|    1|\n",
      "|0901171670|0901171670|1057| 716| 805|1353|1560|    11|    9| 71670|New London County|METRO35980M35980|Norwich-New Londo...|        Sprague town|   2984|         CT|      40|    1|\n",
      "|0901173770|0901173770|1057| 716| 805|1353|1560|    11|    9| 73770|New London County|METRO35980M35980|Norwich-New Londo...|     Stonington town|  18545|         CT|      40|    1|\n",
      "|0901178600|0901178600|1057| 716| 805|1353|1560|    11|    9| 78600|New London County|METRO35980M35980|Norwich-New Londo...|      Voluntown town|   2603|         CT|      40|    1|\n",
      "|0901180280|0901180280|1057| 716| 805|1353|1560|    11|    9| 80280|New London County|METRO35980M35980|Norwich-New Londo...|      Waterford town|  19517|         CT|      40|    1|\n",
      "|0901301080|0901301080|1144| 732| 918|1425|1655|    13|    9| 01080|   Tolland County|METRO25540M25540|Hartford-West Har...|        Andover town|   3303|         CT|      50|    1|\n",
      "|0901306260|0901306260|1144| 732| 918|1425|1655|    13|    9| 06260|   Tolland County|METRO25540M25540|Hartford-West Har...|         Bolton town|   4980|         CT|      50|    1|\n",
      "|0901316400|0901316400|1144| 732| 918|1425|1655|    13|    9| 16400|   Tolland County|METRO25540M25540|Hartford-West Har...|       Columbia town|   5485|         CT|      50|    1|\n",
      "|0901317800|0901317800|1144| 732| 918|1425|1655|    13|    9| 17800|   Tolland County|METRO25540M25540|Hartford-West Har...|       Coventry town|  12435|         CT|      50|    1|\n",
      "|0901325360|0901325360|1144| 732| 918|1425|1655|    13|    9| 25360|   Tolland County|METRO25540M25540|Hartford-West Har...|      Ellington town|  15602|         CT|      50|    1|\n",
      "|0901337910|0901337910|1144| 732| 918|1425|1655|    13|    9| 37910|   Tolland County|METRO25540M25540|Hartford-West Har...|         Hebron town|   9686|         CT|      50|    1|\n",
      "|0901344910|0901344910|1144| 732| 918|1425|1655|    13|    9| 44910|   Tolland County|METRO25540M25540|Hartford-West Har...|      Mansfield town|  26543|         CT|      50|    1|\n",
      "|0901369220|0901369220|1144| 732| 918|1425|1655|    13|    9| 69220|   Tolland County|METRO25540M25540|Hartford-West Har...|         Somers town|  11444|         CT|      50|    1|\n",
      "|0901372090|0901372090|1144| 732| 918|1425|1655|    13|    9| 72090|   Tolland County|METRO25540M25540|Hartford-West Har...|       Stafford town|  12087|         CT|      50|    1|\n",
      "|0901376290|0901376290|1144| 732| 918|1425|1655|    13|    9| 76290|   Tolland County|METRO25540M25540|Hartford-West Har...|        Tolland town|  15052|         CT|      50|    1|\n",
      "|0901377830|0901377830|1144| 732| 918|1425|1655|    13|    9| 77830|   Tolland County|METRO25540M25540|Hartford-West Har...|          Union town|    854|         CT|      50|    1|\n",
      "+----------+----------+----+----+----+----+----+------+-----+------+-----------------+----------------+--------------------+--------------------+-------+-----------+--------+-----+\n",
      "\n"
     ]
    }
   ],
   "source": [
    "dashdata.show\n",
    "dashdata2.show"
   ]
  },
  {
   "cell_type": "markdown",
   "metadata": {},
   "source": [
    "# Compute the distribution FDR0 such that \n",
    "In this section, we demonstrate how to use SparkSQL queries to detect fraud with analysis such that if Actual prevailing Rent value reperesented by ACT_ is greater than 1.4 times of FDR_value then that county need to be checked for fraud since such spike in rent from FDR value can mean prevelant fraud in that county.\n",
    "\n",
    "For this we will retrieve FMR0 data with each county unique identification no according to 2010 i.e. FIPS2010 \n",
    "So the sql query stored in result1 multiplies the FMR0 values stored in FMR0 in fmr table and updates it to be saved in results1. \n",
    "Then the ACT0 and FIPS2010 from actualdata table are retrieved .\n",
    "The final join integrates both the tables and output data such that when FIPS2010 in both tables is equal and ACT0 > 1.4 * FMR0 value. The FIPS value with discrepency is printed . \n",
    "This can be used to find frauds in different counties."
   ]
  },
  {
   "cell_type": "code",
   "execution_count": 7,
   "metadata": {
    "collapsed": false
   },
   "outputs": [
    {
     "name": "stdout",
     "output_type": "stream",
     "text": [
      "+----+----------+\n",
      "|FMR0|  FIPS2010|\n",
      "+----+----------+\n",
      "| 700|2502771480|\n",
      "| 674|2502771620|\n",
      "| 531|2502773090|\n",
      "| 674|2502773895|\n",
      "| 674|2502775015|\n",
      "| 674|2502775155|\n",
      "| 674|2502775400|\n",
      "| 610|2502777010|\n",
      "| 610|2502780405|\n",
      "| 674|2502782000|\n",
      "| 448|2600199999|\n",
      "| 448|2600399999|\n",
      "| 576|2600599999|\n",
      "| 411|2600799999|\n",
      "| 391|2600999999|\n",
      "| 485|2601199999|\n",
      "| 448|2601399999|\n",
      "| 456|2601599999|\n",
      "| 418|2601799999|\n",
      "| 549|2601999999|\n",
      "+----+----------+\n",
      "\n"
     ]
    }
   ],
   "source": [
    "val result = sqlContext.sql(\"SELECT FMR0,FIPS2010 from fmrdata\")\n",
    "result.show\n",
    "\n",
    "val result1 = sqlContext.sql(\"select (FMR0 * 1.4),FIPS2010 from fmrdata\" )\n",
    "result1.show "
   ]
  },
  {
   "cell_type": "code",
   "execution_count": 10,
   "metadata": {
    "collapsed": false
   },
   "outputs": [
    {
     "name": "stdout",
     "output_type": "stream",
     "text": [
      "+----+---------+\n",
      "|ACT0| FIPS2010|\n",
      "+----+---------+\n",
      "| 788|100199999|\n",
      "| 762|100399999|\n",
      "| 670|100599999|\n",
      "| 773|100799999|\n",
      "| 773|100999999|\n",
      "| 599|101199999|\n",
      "| 599|101399999|\n",
      "| 675|101599999|\n",
      "| 696|101799999|\n",
      "| 599|101999999|\n",
      "| 599|102199999|\n",
      "| 708|102399999|\n",
      "| 599|102599999|\n",
      "| 599|102799999|\n",
      "+----+---------+\n",
      "\n"
     ]
    }
   ],
   "source": [
    "val results = sqlContext.sql(\"SELECT ACT0,FIPS2010 from actualdata\")\n",
    "results.show"
   ]
  },
  {
   "cell_type": "code",
   "execution_count": 11,
   "metadata": {
    "collapsed": false
   },
   "outputs": [
    {
     "name": "stdout",
     "output_type": "stream",
     "text": [
      "+-----------------+----------+----+---------+\n",
      "|               c0|  FIPS2010|ACT0| FIPS2010|\n",
      "+-----------------+----------+----+---------+\n",
      "|            763.0|0100999999| 773|100999999|\n",
      "|691.5999999999999|0100399999| 762|100399999|\n",
      "|            763.0|0100799999| 773|100799999|\n",
      "|592.1999999999999|0102199999| 599|102199999|\n",
      "+-----------------+----------+----+---------+\n",
      "\n"
     ]
    }
   ],
   "source": [
    "result1.join(results, result1(\"c0\") < (results(\"ACT0\")) && result1(\"FIPS2010\") === results (\"FIPS2010\")).show"
   ]
  }
 ],
 "metadata": {
  "kernelspec": {
   "display_name": "Scala 2.10",
   "language": "scala",
   "name": "spark"
  },
  "language_info": {
   "name": "scala"
  }
 },
 "nbformat": 4,
 "nbformat_minor": 0
}